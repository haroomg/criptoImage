{
 "cells": [
  {
   "cell_type": "code",
   "execution_count": null,
   "metadata": {},
   "outputs": [
    {
     "name": "stdout",
     "output_type": "stream",
     "text": [
      "The encryption dictionary has been created\n"
     ]
    }
   ],
   "source": [
    "from encryption import Encryption\n",
    "\n",
    "encryp_path = \"files/testing.json\"\n",
    "img_path = \"files/test.png\"\n",
    "message = \"\"\n",
    "\n",
    "encryp = Encryption()\n",
    "encryp.create_dict(encryp_path, [300, 300])"
   ]
  },
  {
   "cell_type": "code",
   "execution_count": 2,
   "metadata": {},
   "outputs": [],
   "source": [
    "# testing\n",
    "encryp.encrypt(message, img_path, encryp_path)"
   ]
  },
  {
   "cell_type": "code",
   "execution_count": 3,
   "metadata": {},
   "outputs": [
    {
     "name": "stdout",
     "output_type": "stream",
     "text": [
      "holissss  \n",
      " este es un mensaje secreto que se va a usar para validar que el metodo funciona pero hay un error solo acepta letras y numeros pero ningun caracteres mas axectuando el espacio en blanco\n"
     ]
    }
   ],
   "source": [
    "message2 = encryp.decrypt(img_path, encryp_path)\n",
    "print(message2)"
   ]
  }
 ],
 "metadata": {
  "kernelspec": {
   "display_name": ".venv",
   "language": "python",
   "name": "python3"
  },
  "language_info": {
   "codemirror_mode": {
    "name": "ipython",
    "version": 3
   },
   "file_extension": ".py",
   "mimetype": "text/x-python",
   "name": "python",
   "nbconvert_exporter": "python",
   "pygments_lexer": "ipython3",
   "version": "3.10.13"
  }
 },
 "nbformat": 4,
 "nbformat_minor": 2
}
