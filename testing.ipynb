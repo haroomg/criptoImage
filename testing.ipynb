{
 "cells": [
  {
   "cell_type": "code",
   "execution_count": 1,
   "metadata": {},
   "outputs": [],
   "source": [
    "# imports encryption\n",
    "from encryption import encryption\n",
    "\n",
    "encryp = encryption()\n",
    "file = \"image/test.png\"\n",
    "message = \"En un pequeño pueblo rodeado de montañas, la vida transcurría con una calma casi mágica. Cada mañana, los rayos del sol se filtraban entre los árboles, creando un espectáculo de luces y sombras que despertaba a los habitantes. Los niños corrían por las calles empedradas, riendo y jugando, mientras las abuelas se sentaban en los bancos de la plaza, compartiendo historias de tiempos pasados. La comunidad se unía cada domingo en el mercado local, donde los agricultores ofrecían sus productos frescos y los artesanos exhibían sus creaciones. La música de un guitarrista resonaba en el aire, llenando el ambiente de alegría y nostalgia. A medida que el día avanzaba, el aroma del pan recién horneado y las comidas caseras se mezclaban, invitando a todos a disfrutar de unacomida en compañía. Así, en este rincón del mundo, la simplicidad de la vida cotidiana se convertía en un verdadero tesoro, recordando a cada uno la importancia de la conexión con los demás y con la naturaleza.\""
   ]
  },
  {
   "cell_type": "code",
   "execution_count": 2,
   "metadata": {},
   "outputs": [],
   "source": [
    "# testing\n",
    "secretKey = encryp.encrypt(message, file)\n",
    "# encryp.seeImage()"
   ]
  },
  {
   "cell_type": "code",
   "execution_count": 3,
   "metadata": {},
   "outputs": [
    {
     "name": "stdout",
     "output_type": "stream",
     "text": [
      "En un pequeño pueblo rodeado de montañas, la vida transcurría con una calma casi mágica. Cada mañana, los rayos del sol se filtraban entre los árboles, creando un espectáculo de luces y sombras que despertaba a los habitantes. Los niños corrían por las calles empedradas, riendo y jugando, mientras las abuelas se sentaban en los bancos de la plaza, compartiendo historias de tiempos pasados. La comunidad se unía cada domingo en el mercado local, donde los agricultores ofrecían sus productos frescos y los artesanos exhibían sus creaciones. La música de un guitarrista resonaba en el aire, llenando el ambiente de alegría y nostalgia. A medida que el día avanzaba, el aroma del pan recién horneado y las comidas caseras se mezclaban, invitando a todos a disfrutar de unacomida en compañía. Así, en este rincón del mundo, la simplicidad de la vida cotidiana se convertía en un verdadero tesoro, recordando a cada uno la importancia de la conexión con los demás y con la naturaleza.\n"
     ]
    }
   ],
   "source": [
    "message2 = encryp.decrypt(file, secretKey)\n",
    "# encryp.seeFrame()\n",
    "print(message2)"
   ]
  }
 ],
 "metadata": {
  "kernelspec": {
   "display_name": ".venv",
   "language": "python",
   "name": "python3"
  },
  "language_info": {
   "codemirror_mode": {
    "name": "ipython",
    "version": 3
   },
   "file_extension": ".py",
   "mimetype": "text/x-python",
   "name": "python",
   "nbconvert_exporter": "python",
   "pygments_lexer": "ipython3",
   "version": "3.10.13"
  }
 },
 "nbformat": 4,
 "nbformat_minor": 2
}
