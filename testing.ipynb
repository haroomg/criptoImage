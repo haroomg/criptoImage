{
 "cells": [
  {
   "cell_type": "code",
   "execution_count": 2,
   "metadata": {},
   "outputs": [],
   "source": [
    "import json\n",
    "\n",
    "with open('files/testing.json', 'r') as f:\n",
    "    json_file = json.load(f)"
   ]
  },
  {
   "cell_type": "code",
   "execution_count": 2,
   "metadata": {},
   "outputs": [
    {
     "name": "stdout",
     "output_type": "stream",
     "text": [
      "$uSG3TF}lb;14E]_\\B-.A& iP%2nC9#xqH7/0Z:L[mW*wU8za'X\"sYMOh{dVIvK5k+Q\n",
      "r6gJNp,ctjRoeyfD\n"
     ]
    }
   ],
   "source": [
    "import random\n",
    "\n",
    "strings = \"abcdefghijklmnopqrstuvwxyzABCDEFGHIJKLMNOPQRSTUVWXYZ0123456789\\\"#$%&\\'*+,-./:;[\\\\]_{} \\n\"\n",
    "to_list = list(strings)\n",
    "random.shuffle(to_list)\n",
    "shuffled_string = ''.join(to_list)\n",
    "\n",
    "print(fr\"{shuffled_string}\")"
   ]
  }
 ],
 "metadata": {
  "kernelspec": {
   "display_name": ".venv",
   "language": "python",
   "name": "python3"
  },
  "language_info": {
   "codemirror_mode": {
    "name": "ipython",
    "version": 3
   },
   "file_extension": ".py",
   "mimetype": "text/x-python",
   "name": "python",
   "nbconvert_exporter": "python",
   "pygments_lexer": "ipython3",
   "version": "3.10.13"
  }
 },
 "nbformat": 4,
 "nbformat_minor": 2
}
