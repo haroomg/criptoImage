{
 "cells": [
  {
   "cell_type": "code",
   "execution_count": null,
   "metadata": {},
   "outputs": [],
   "source": [
    "# imports\n",
    "from encryption import encryption\n",
    "\n",
    "encryp = encryption()\n",
    "file = \"image/test.png\"\n",
    "message = \"En un pequeño pueblo rodeado de montañas, la vida transcurría con una calma casi mágica. Cada mañana, los rayos del sol se filtraban entre los árboles, creando un espectáculo de luces y sombras que despertaba a los habitantes. Los niños corrían por las calles empedradas, riendo y jugando, mientras las abuelas se sentaban en los bancos de la plaza, compartiendo historias de tiempos pasados. La comunidad se unía cada domingo en el mercado local, donde los agricultores ofrecían sus productos frescos y los artesanos exhibían sus creaciones. La música de un guitarrista resonaba en el aire, llenando el ambiente de alegría y nostalgia. A medida que el día avanzaba, el aroma del pan recién horneado y las comidas caseras se mezclaban, invitando a todos a disfrutar de una comida en compañía. Así, en este rincón del mundo, la simplicidad de la vida cotidiana se convertía en un verdadero tesoro, recordando a cada uno la importancia de la conexión con los demás y con la naturaleza.\""
   ]
  },
  {
   "cell_type": "code",
   "execution_count": null,
   "metadata": {},
   "outputs": [],
   "source": [
    "# unit test\n",
    "secretKey = encryp.encrypt(message, file)\n",
    "# encryp.seeImage()\n",
    "\n",
    "message2 = encryp.decrypt(file, secretKey)\n",
    "print(message2)\n"
   ]
  },
  {
   "cell_type": "code",
   "execution_count": null,
   "metadata": {},
   "outputs": [],
   "source": [
    "# count = 0\n",
    "\n",
    "# for i in range(100):\n",
    "#     try:\n",
    "#         secretKey = encryp.encrypt(message, file)\n",
    "#     except ValueError as e:\n",
    "#         raise e\n",
    "    \n",
    "#     try:\n",
    "#         message2 = encryp.decrypt(file, secretKey)\n",
    "#     except ValueError as e:\n",
    "#         raise e\n",
    "    \n",
    "#     if message != message2:\n",
    "#         raise ValueError(\"Decrypted message does not match original message\")\n",
    "    \n",
    "#     count += 1\n",
    "#     if count % 10 == 0:\n",
    "#         print(count)"
   ]
  }
 ],
 "metadata": {
  "kernelspec": {
   "display_name": ".venv",
   "language": "python",
   "name": "python3"
  },
  "language_info": {
   "codemirror_mode": {
    "name": "ipython",
    "version": 3
   },
   "file_extension": ".py",
   "mimetype": "text/x-python",
   "name": "python",
   "nbconvert_exporter": "python",
   "pygments_lexer": "ipython3",
   "version": "3.10.13"
  }
 },
 "nbformat": 4,
 "nbformat_minor": 2
}
