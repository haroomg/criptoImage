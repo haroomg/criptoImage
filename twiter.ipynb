{
 "cells": [
  {
   "cell_type": "code",
   "execution_count": 72,
   "metadata": {},
   "outputs": [],
   "source": [
    "import json\n",
    "import random"
   ]
  },
  {
   "cell_type": "code",
   "execution_count": null,
   "metadata": {},
   "outputs": [],
   "source": [
    "def generate_dict():\n",
    "    \n",
    "    result= []\n",
    "    value_count = {i: 0 for i in range(256)}\n",
    "    value_used = {i: None for i in range(256)}\n",
    "    \n",
    "    for i in range(256):\n",
    "        values = []\n",
    "        \n",
    "        while len(values) < 4:\n",
    "            value = random.randint(0, 255)\n",
    "            \n",
    "            if value_count[value] < 5:\n",
    "                values.append(value)\n",
    "                value_count[value] += 1\n",
    "        \n",
    "        dictionary = {\n",
    "            \"values\": values,\n",
    "            \"len\": len(values),\n",
    "            \"pos\": 0,\n",
    "        }\n",
    "        \n",
    "        for j, vl in enumerate(values):\n",
    "            \n",
    "            actual_value_used = value_used[vl]\n",
    "            if actual_value_used == None:\n",
    "                value_used[vl] = i\n",
    "                dictionary[\"pos\"] = j\n",
    "                break\n",
    "        else:\n",
    "            for vl in value_used:\n",
    "                if value_used[vl] == None and value_count[vl] < 6:\n",
    "                    dictionary[\"values\"].append(vl)\n",
    "                    dictionary[\"len\"] = len(dictionary[\"values\"])\n",
    "                    break\n",
    "        \n",
    "        result.append(dictionary)\n",
    "    \n",
    "    return result"
   ]
  },
  {
   "cell_type": "code",
   "execution_count": null,
   "metadata": {},
   "outputs": [],
   "source": [
    "result = generate_dict()\n",
    "message = \"En un pequeño pueblo rodeado de montañas, la vida transcurría con una calma casi mágica. Cada mañana, los rayos del sol se filtraban entre los árboles, creando un espectáculo de luces y sombras que despertaba a los habitantes. Los niños corrían por las calles empedradas, riendo y jugando, mientras las abuelas se sentaban en los bancos de la plaza, compartiendo historias de tiempos pasados. La comunidad se unía cada domingo en el mercado local, donde los agricultores ofrecían sus productos frescos y los artesanos exhibían sus creaciones. La música de un guitarrista resonaba en el aire, llenando el ambiente de alegría y nostalgia. A medida que el día avanzaba, el aroma del pan recién horneado y las comidas caseras se mezclaban, invitando a todos a disfrutar de unacomida en compañía. Así, en este rincón del mundo, la simplicidad de la vida cotidiana se convertía en un verdadero tesoro, recordando a cada uno la importancia de la conexión con los demás y con la naturaleza.\"\n",
    "encode_message = [ord(char) for char in message]\n",
    "value_used = {i: None for i in range(256)}\n",
    "\n",
    "for i, char in enumerate(encode_message.copy()):\n",
    "    \n",
    "    dictionary = result[i]\n",
    "    values = dictionary[\"values\"]\n",
    "    pos = dictionary[\"pos\"]\n",
    "    length = dictionary[\"len\"]\n",
    "    \n",
    "    for j, value in enumerate(values):\n",
    "        \n",
    "        if j == pos:\n",
    "            \n",
    "            if value_used[value] == None:\n",
    "                value_used[value] = char\n",
    "                \n",
    "                if pos < length:\n",
    "                    dictionary[\"pos\"] += 1\n",
    "                else:\n",
    "                    dictionary[\"pos\"] = 0\n",
    "                \n",
    "                encode_message[i] = value\n",
    "                \n",
    "            else:\n",
    "                if pos < length:\n",
    "                    dictionary[\"pos\"] += 1\n",
    "                else:\n",
    "                    dictionary[\"pos\"] = 0\n",
    "                "
   ]
  },
  {
   "cell_type": "code",
   "execution_count": null,
   "metadata": {},
   "outputs": [],
   "source": []
  }
 ],
 "metadata": {
  "kernelspec": {
   "display_name": ".venv",
   "language": "python",
   "name": "python3"
  },
  "language_info": {
   "codemirror_mode": {
    "name": "ipython",
    "version": 3
   },
   "file_extension": ".py",
   "mimetype": "text/x-python",
   "name": "python",
   "nbconvert_exporter": "python",
   "pygments_lexer": "ipython3",
   "version": "3.9.2"
  }
 },
 "nbformat": 4,
 "nbformat_minor": 2
}
